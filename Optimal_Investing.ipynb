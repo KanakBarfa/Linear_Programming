{
 "cells": [
  {
   "cell_type": "code",
   "execution_count": 10,
   "metadata": {},
   "outputs": [
    {
     "name": "stdout",
     "output_type": "stream",
     "text": [
      "Note: you may need to restart the kernel to use updated packages.\n",
      "E: Could not open lock file /var/lib/dpkg/lock-frontend - open (13: Permission denied)\n",
      "E: Unable to acquire the dpkg frontend lock (/var/lib/dpkg/lock-frontend), are you root?\n"
     ]
    }
   ],
   "source": [
    "%pip install -q pyomo\n",
    "!apt-get install -y -qq coinor-cbc"
   ]
  },
  {
   "cell_type": "code",
   "execution_count": 11,
   "metadata": {},
   "outputs": [],
   "source": [
    "from pyomo.environ import *\n",
    "import math\n",
    "n=5             #Days\n",
    "b=200           #Budget\n",
    "M=50000000  #Big Number. This is the only thing i am not able to make sure what to select. If i select too big, it gives 400, which i dont think is possible\n",
    "model=ConcreteModel()"
   ]
  },
  {
   "cell_type": "code",
   "execution_count": 12,
   "metadata": {},
   "outputs": [],
   "source": [
    "model.xi = Var(range(n),domain= NonNegativeReals)            #Money invested\n",
    "model.ri= Var(range(n),domain= NonNegativeReals)             #Is the returns we get after 2 days\n",
    "model.y=Var(range(n),domain=Binary)                             #This one checks if x[i-1]==2*x[i-2]"
   ]
  },
  {
   "cell_type": "code",
   "execution_count": 13,
   "metadata": {},
   "outputs": [],
   "source": [
    "model.obj = Objective(expr = b-sum(model.xi[i] for i in range(n))+sum(model.ri[i] for i in range(n)), sense = maximize)"
   ]
  },
  {
   "cell_type": "code",
   "execution_count": 14,
   "metadata": {},
   "outputs": [],
   "source": [
    "model.constraints = ConstraintList()\n",
    "model.constraints.add(expr = model.ri[0] == 0)                              #Initially for first 2 days, no returns\n",
    "model.constraints.add(expr = model.ri[1] == 0)\n",
    "for i in range(n):\n",
    "    model.constraints.add(expr = model.xi[i]>=0)                            #Investments must be poisitive\n",
    "    model.constraints.add(expr = model.ri[i]>=0)                            #Returns must be positive\n",
    "    model.constraints.add(expr = b-sum(model.xi[j] for j in range(i+1))+sum(model.ri[j] for j in range(i+1))>=0) #Money always greater than 0 at any day"
   ]
  },
  {
   "cell_type": "code",
   "execution_count": 15,
   "metadata": {},
   "outputs": [],
   "source": [
    "for i in [2,3,4]:\n",
    "  model.constraints.add(expr = model.xi[i-2]-2*model.xi[i-1]<=M*(1-model.y[i]))     #BigM method used\n",
    "  model.constraints.add(expr = model.xi[i-2]-2*model.xi[i-1]>=-M*(1-model.y[i]))    #Makes sure y[i] is 0 if x[i-2]!=2x[i-1]\n",
    "  ###########################################\n",
    "  #But how to make sure y[i] is 1 otherwise?\n",
    "  #If not then it wont be optimal, so no need to make sure of it\n",
    "  ###########################################\n",
    "  model.constraints.add(expr = model.ri[i]<=M*(model.y[i]))                         #Makes sure r[i] is 0 if y[i] is 0,No returns\n",
    "  model.constraints.add(expr = model.ri[i]>=-M*(model.y[i]))\n",
    "  model.constraints.add(expr = model.ri[i]-2*model.xi[i-2]<=M*(1-model.y[i]))         #Makes sure r[i] is 2x[i-2] if y[i] is 1\n",
    "  model.constraints.add(expr = model.ri[i]-2*model.xi[i-2]>=-M*(1-model.y[i]))"
   ]
  },
  {
   "cell_type": "code",
   "execution_count": 16,
   "metadata": {},
   "outputs": [],
   "source": [
    "opt = SolverFactory('cbc')"
   ]
  },
  {
   "cell_type": "code",
   "execution_count": 17,
   "metadata": {},
   "outputs": [
    {
     "name": "stdout",
     "output_type": "stream",
     "text": [
      "Welcome to the CBC MILP Solver \n",
      "Version: 2.10.8 \n",
      "Build Date: May  9 2022 \n",
      "\n",
      "command line - /bin/cbc -printingOptions all -import /tmp/tmppb691dnk.pyomo.lp -stat=1 -solve -solu /tmp/tmppb691dnk.pyomo.soln (default strategy 1)\n",
      "Option for printingOptions changed from normal to all\n",
      " CoinLpIO::readLp(): Maximization problem reformulated as minimization\n",
      "Coin0009I Switching back to maximization to get correct duals etc\n",
      "Presolve 19 (-16) rows, 11 (-3) columns and 62 (-28) elements\n",
      "Statistics for presolved model\n",
      "Original problem has 3 integers (3 of which binary)\n",
      "Presolved problem has 3 integers (3 of which binary)\n",
      "==== 3 zero objective 3 different\n",
      "5 variables have objective of -1\n",
      "3 variables have objective of -0\n",
      "3 variables have objective of 1\n",
      "==== absolute objective values 2 different\n",
      "3 variables have objective of 0\n",
      "8 variables have objective of 1\n",
      "==== for integers 3 zero objective 1 different\n",
      "3 variables have objective of -0\n",
      "==== for integers absolute objective values 1 different\n",
      "3 variables have objective of 0\n",
      "===== end objective counts\n",
      "\n",
      "\n",
      "Problem has 19 rows, 11 columns (8 with objective) and 62 elements\n",
      "There are 1 singletons with objective \n",
      "Column breakdown:\n",
      "7 of type 0.0->inf, 1 of type 0.0->up, 0 of type lo->inf, \n",
      "0 of type lo->up, 0 of type free, 0 of type fixed, \n",
      "0 of type -inf->0.0, 0 of type -inf->up, 3 of type 0.0->1.0 \n",
      "Row breakdown:\n",
      "0 of type E 0.0, 0 of type E 1.0, 0 of type E -1.0, \n",
      "0 of type E other, 0 of type G 0.0, 0 of type G 1.0, \n",
      "4 of type G other, 3 of type L 0.0, 0 of type L 1.0, \n",
      "12 of type L other, 0 of type Range 0.0->1.0, 0 of type Range other, \n",
      "0 of type Free \n",
      "Continuous objective value is 7.50002e+07 - 0.00 seconds\n",
      "Cgl0003I 0 fixed, 0 tightened bounds, 5 strengthened rows, 0 substitutions\n",
      "Cgl0003I 0 fixed, 0 tightened bounds, 1 strengthened rows, 0 substitutions\n",
      "Cgl0004I processed model has 19 rows, 10 columns (3 integer (3 of which binary)) and 58 elements\n",
      "Cbc0038I Initial state - 3 integers unsatisfied sum - 1\n",
      "Cbc0038I Pass   1: suminf.    0.00000 (0) obj. -266.667 iterations 3\n",
      "Cbc0038I Solution found of -266.667\n",
      "Cbc0038I Relaxing continuous gives -266.667\n",
      "Cbc0038I Before mini branch and bound, 0 integers at bound fixed and 1 continuous\n",
      "Cbc0038I Full problem 19 rows 10 columns, reduced to 18 rows 9 columns\n",
      "Cbc0038I Mini branch and bound improved solution from -266.667 to -366.667 (0.00 seconds)\n",
      "Cbc0038I Round again with cutoff of -400\n",
      "Cbc0038I Pass   2: suminf.    0.22222 (1) obj. -400 iterations 1\n",
      "Cbc0038I Pass   3: suminf.    0.00000 (1) obj. -400 iterations 4\n",
      "Cbc0038I Pass   4: suminf.    0.00000 (1) obj. -400 iterations 0\n",
      "Cbc0038I Pass   5: suminf.    0.00000 (1) obj. -400 iterations 9\n",
      "Cbc0038I Pass   6: suminf.    0.00000 (1) obj. -400 iterations 0\n",
      "Cbc0038I Pass   7: suminf.    0.00000 (1) obj. -400 iterations 0\n",
      "Cbc0038I Pass   8: suminf.    0.00000 (1) obj. -400 iterations 0\n",
      "Cbc0038I Pass   9: suminf.    0.00000 (1) obj. -400 iterations 2\n",
      "Cbc0038I Pass  10: suminf.    0.00000 (1) obj. -400 iterations 0\n",
      "Cbc0038I Pass  11: suminf.    0.00000 (1) obj. -400 iterations 0\n",
      "Cbc0038I Pass  12: suminf.    0.00000 (1) obj. -400 iterations 0\n",
      "Cbc0038I Pass  13: suminf.    0.00000 (1) obj. -400 iterations 2\n",
      "Cbc0038I Pass  14: suminf.    0.00000 (1) obj. -400 iterations 2\n",
      "Cbc0038I Pass  15: suminf.    0.33333 (1) obj. -400 iterations 4\n",
      "Cbc0038I Pass  16: suminf.    0.22222 (1) obj. -400 iterations 3\n",
      "Cbc0038I Pass  17: suminf.    0.00000 (1) obj. -400 iterations 4\n",
      "Cbc0038I Pass  18: suminf.    0.00000 (1) obj. -400 iterations 0\n",
      "Cbc0038I Pass  19: suminf.    0.00000 (1) obj. -400 iterations 0\n",
      "Cbc0038I Pass  20: suminf.    0.00000 (1) obj. -400 iterations 0\n",
      "Cbc0038I Pass  21: suminf.    0.00000 (0) obj. -416.667 iterations 8\n",
      "Cbc0038I Solution found of -416.667\n",
      "Cbc0038I Relaxing continuous gives -416.667\n",
      "Cbc0038I Before mini branch and bound, 0 integers at bound fixed and 0 continuous\n",
      "Cbc0038I Full problem 19 rows 10 columns, reduced to 19 rows 10 columns\n",
      "Cbc0038I Mini branch and bound improved solution from -416.667 to -416.667 (0.00 seconds)\n",
      "Cbc0038I Round again with cutoff of -473.333\n",
      "Cbc0038I Pass  22: suminf.    0.34444 (1) obj. -473.333 iterations 0\n",
      "Cbc0038I Pass  23: suminf.    0.00000 (1) obj. -473.333 iterations 4\n",
      "Cbc0038I Pass  24: suminf.    0.00000 (1) obj. -473.333 iterations 0\n",
      "Cbc0038I Pass  25: suminf.    0.00000 (1) obj. -473.333 iterations 0\n",
      "Cbc0038I Pass  26: suminf.    0.18334 (2) obj. -473.333 iterations 4\n",
      "Cbc0038I Pass  27: suminf.    0.18334 (2) obj. -473.333 iterations 0\n",
      "Cbc0038I Pass  28: suminf.    0.18334 (2) obj. -473.333 iterations 0\n",
      "Cbc0038I Pass  29: suminf.    0.18334 (2) obj. -473.333 iterations 0\n",
      "Cbc0038I Pass  30: suminf.    0.18334 (2) obj. -473.333 iterations 0\n",
      "Cbc0038I Pass  31: suminf.    0.18334 (2) obj. -473.333 iterations 0\n",
      "Cbc0038I Pass  32: suminf.    0.18334 (2) obj. -473.333 iterations 0\n",
      "Cbc0038I Pass  33: suminf.    0.18334 (2) obj. -473.333 iterations 0\n",
      "Cbc0038I Pass  34: suminf.    0.18334 (2) obj. -473.333 iterations 0\n",
      "Cbc0038I Pass  35: suminf.    0.30556 (2) obj. -473.333 iterations 3\n",
      "Cbc0038I Pass  36: suminf.    0.00000 (2) obj. -473.333 iterations 5\n",
      "Cbc0038I Pass  37: suminf.    0.00000 (2) obj. -473.333 iterations 0\n",
      "Cbc0038I Pass  38: suminf.    0.12222 (2) obj. -473.333 iterations 1\n",
      "Cbc0038I Pass  39: suminf.    0.34444 (1) obj. -473.333 iterations 2\n",
      "Cbc0038I Pass  40: suminf.    0.57778 (2) obj. -473.333 iterations 3\n",
      "Cbc0038I Pass  41: suminf.    0.30556 (2) obj. -473.333 iterations 3\n",
      "Cbc0038I Pass  42: suminf.    0.30556 (2) obj. -473.333 iterations 0\n",
      "Cbc0038I Pass  43: suminf.    0.57778 (2) obj. -473.333 iterations 2\n",
      "Cbc0038I Pass  44: suminf.    0.30556 (2) obj. -473.333 iterations 2\n",
      "Cbc0038I Pass  45: suminf.    0.30556 (2) obj. -473.333 iterations 0\n",
      "Cbc0038I Pass  46: suminf.    0.30556 (2) obj. -473.333 iterations 0\n",
      "Cbc0038I Pass  47: suminf.    0.30556 (2) obj. -473.333 iterations 0\n",
      "Cbc0038I Pass  48: suminf.    0.57778 (2) obj. -473.333 iterations 2\n",
      "Cbc0038I Pass  49: suminf.    0.30556 (2) obj. -473.333 iterations 2\n",
      "Cbc0038I Pass  50: suminf.    0.30556 (2) obj. -473.333 iterations 0\n",
      "Cbc0038I Pass  51: suminf.    0.30556 (2) obj. -473.333 iterations 0\n",
      "Cbc0038I No solution found this major pass\n",
      "Cbc0038I Before mini branch and bound, 0 integers at bound fixed and 0 continuous\n",
      "Cbc0038I Full problem 19 rows 10 columns, reduced to 19 rows 10 columns\n",
      "Cbc0038I Mini branch and bound did not improve solution (0.01 seconds)\n",
      "Cbc0038I After 0.01 seconds - Feasibility pump exiting with objective of -416.667 - took 0.00 seconds\n",
      "Cbc0012I Integer solution of -416.66667 found by feasibility pump after 0 iterations and 0 nodes (0.01 seconds)\n",
      "Cbc0031I 7 added rows had average density of 6\n",
      "Cbc0013I At root node, 7 cuts changed objective from -700 to -416.66673 in 21 passes\n",
      "Cbc0014I Cut generator 0 (Probing) - 15 row cuts average 3.1 elements, 0 column cuts (0 active)  in 0.000 seconds - new frequency is 1\n",
      "Cbc0014I Cut generator 1 (Gomory) - 44 row cuts average 6.2 elements, 0 column cuts (0 active)  in 0.001 seconds - new frequency is 1\n",
      "Cbc0014I Cut generator 2 (Knapsack) - 0 row cuts average 0.0 elements, 0 column cuts (0 active)  in 0.000 seconds - new frequency is -100\n",
      "Cbc0014I Cut generator 3 (Clique) - 0 row cuts average 0.0 elements, 0 column cuts (0 active)  in 0.000 seconds - new frequency is -100\n",
      "Cbc0014I Cut generator 4 (MixedIntegerRounding2) - 3 row cuts average 3.0 elements, 0 column cuts (0 active)  in 0.000 seconds - new frequency is 1\n",
      "Cbc0014I Cut generator 5 (FlowCover) - 1 row cuts average 2.0 elements, 0 column cuts (0 active)  in 0.000 seconds - new frequency is -100\n",
      "Cbc0014I Cut generator 6 (TwoMirCuts) - 12 row cuts average 3.5 elements, 0 column cuts (0 active)  in 0.000 seconds - new frequency is 1\n",
      "Cbc0001I Search completed - best objective -416.6666666666667, took 84 iterations and 0 nodes (0.01 seconds)\n",
      "Cbc0032I Strong branching done 6 times (25 iterations), fathomed 1 nodes and fixed 0 variables\n",
      "Cbc0035I Maximum depth 0, 0 variables fixed on reduced cost\n",
      "Cuts at root node changed objective from -700 to -416.667\n",
      "Probing was tried 21 times and created 15 cuts of which 0 were active after adding rounds of cuts (0.000 seconds)\n",
      "Gomory was tried 21 times and created 44 cuts of which 0 were active after adding rounds of cuts (0.001 seconds)\n",
      "Knapsack was tried 21 times and created 0 cuts of which 0 were active after adding rounds of cuts (0.000 seconds)\n",
      "Clique was tried 21 times and created 0 cuts of which 0 were active after adding rounds of cuts (0.000 seconds)\n",
      "MixedIntegerRounding2 was tried 21 times and created 3 cuts of which 0 were active after adding rounds of cuts (0.000 seconds)\n",
      "FlowCover was tried 21 times and created 1 cuts of which 0 were active after adding rounds of cuts (0.000 seconds)\n",
      "TwoMirCuts was tried 21 times and created 12 cuts of which 0 were active after adding rounds of cuts (0.000 seconds)\n",
      "ZeroHalf was tried 1 times and created 0 cuts of which 0 were active after adding rounds of cuts (0.000 seconds)\n",
      "\n",
      "Result - Optimal solution found\n",
      "\n",
      "Objective value:                416.66666667\n",
      "Enumerated nodes:               0\n",
      "Total iterations:               84\n",
      "Time (CPU seconds):             0.01\n",
      "Time (Wallclock seconds):       0.01\n",
      "\n",
      "Total time (CPU seconds):       0.01   (Wallclock seconds):       0.01\n",
      "\n",
      "Solver status: ok\n",
      "Solver termination condition: optimal\n"
     ]
    }
   ],
   "source": [
    "result = opt.solve(model, tee = True)\n",
    "print('Solver status:', result.solver.status)\n",
    "print('Solver termination condition:',result.solver.termination_condition)"
   ]
  },
  {
   "cell_type": "code",
   "execution_count": 18,
   "metadata": {},
   "outputs": [
    {
     "name": "stdout",
     "output_type": "stream",
     "text": [
      "Optimal money 416.66667\n"
     ]
    }
   ],
   "source": [
    "print('Optimal money', model.obj())"
   ]
  }
 ],
 "metadata": {
  "kernelspec": {
   "display_name": "Python 3",
   "language": "python",
   "name": "python3"
  },
  "language_info": {
   "codemirror_mode": {
    "name": "ipython",
    "version": 3
   },
   "file_extension": ".py",
   "mimetype": "text/x-python",
   "name": "python",
   "nbconvert_exporter": "python",
   "pygments_lexer": "ipython3",
   "version": "3.11.4"
  }
 },
 "nbformat": 4,
 "nbformat_minor": 2
}
