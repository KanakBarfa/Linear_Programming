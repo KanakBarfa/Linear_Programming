{
 "cells": [
  {
   "cell_type": "code",
   "execution_count": 39,
   "metadata": {},
   "outputs": [
    {
     "name": "stdout",
     "output_type": "stream",
     "text": [
      "Note: you may need to restart the kernel to use updated packages.\n",
      "E: Could not open lock file /var/lib/dpkg/lock-frontend - open (13: Permission denied)\n",
      "E: Unable to acquire the dpkg frontend lock (/var/lib/dpkg/lock-frontend), are you root?\n"
     ]
    }
   ],
   "source": [
    "%pip install -q pyomo\n",
    "!apt-get install -y -qq coinor-cbc"
   ]
  },
  {
   "cell_type": "code",
   "execution_count": 51,
   "metadata": {},
   "outputs": [],
   "source": [
    "from pyomo.environ import *\n",
    "import math\n",
    "n=5\n",
    "b=100\n",
    "M=5000  #Big Number. This is the only thing i am not able to make sure what to select. If i select too big, it gives 400, which i dont think is possible\n",
    "model=ConcreteModel()"
   ]
  },
  {
   "cell_type": "code",
   "execution_count": 41,
   "metadata": {},
   "outputs": [],
   "source": [
    "model.xi = Var(range(n),domain= NonNegativeIntegers)\n",
    "model.ri= Var(range(n),domain= NonNegativeIntegers)\n",
    "model.y=Var(range(n),domain=Binary)"
   ]
  },
  {
   "cell_type": "code",
   "execution_count": 42,
   "metadata": {},
   "outputs": [],
   "source": [
    "model.obj = Objective(expr = b-sum(model.xi[i] for i in range(n))+sum(model.ri[i] for i in range(n)), sense = maximize)"
   ]
  },
  {
   "cell_type": "code",
   "execution_count": 43,
   "metadata": {},
   "outputs": [],
   "source": [
    "model.constraints = ConstraintList()\n",
    "model.constraints.add(expr = model.ri[0] == 0)                              #Initially for first 2 days, no returns\n",
    "model.constraints.add(expr = model.ri[1] == 0)\n",
    "for i in range(n):\n",
    "    model.constraints.add(expr = model.xi[i]>=0)                            #Investments must be poisitive\n",
    "    model.constraints.add(expr = model.ri[i]>=0)                            #Returns must be positive\n",
    "    model.constraints.add(expr = b-sum(model.xi[j] for j in range(i+1))+sum(model.ri[j] for j in range(i+1))>=0) #Money always greater than 0"
   ]
  },
  {
   "cell_type": "code",
   "execution_count": 44,
   "metadata": {},
   "outputs": [],
   "source": [
    "for i in [2,3,4]:\n",
    "  model.constraints.add(expr = model.xi[i-1]-2*model.xi[i-2]<=M*(1-model.y[i]))     #BigM method used\n",
    "  model.constraints.add(expr = model.xi[i-1]-2*model.xi[i-2]>=-M*(1-model.y[i]))    #Makes sure y[i] is 0 if x[i-1]!=2x[i-2]\n",
    "  ###########################################\n",
    "  #But how to make sure y[i] is 1 otherwise?\n",
    "  ###########################################\n",
    "  model.constraints.add(expr = model.ri[i]<=M*(model.y[i]))                       #Makes sure r[i] is 0 if y[i] is 0\n",
    "  model.constraints.add(expr = model.ri[i]>=-M*(model.y[i]))\n",
    "  model.constraints.add(expr = model.ri[i]-2*model.xi[i-2]<=M*(1-model.y[i]))         #Makes sure r[i] is 2x[i-2] if y[i] is 1\n",
    "  model.constraints.add(expr = model.ri[i]-2*model.xi[i-2]>=-M*(1-model.y[i]))"
   ]
  },
  {
   "cell_type": "code",
   "execution_count": 45,
   "metadata": {},
   "outputs": [],
   "source": [
    "opt = SolverFactory('cbc')"
   ]
  },
  {
   "cell_type": "code",
   "execution_count": 46,
   "metadata": {},
   "outputs": [
    {
     "name": "stdout",
     "output_type": "stream",
     "text": [
      "Welcome to the CBC MILP Solver \n",
      "Version: 2.10.8 \n",
      "Build Date: May  9 2022 \n",
      "\n",
      "command line - /bin/cbc -printingOptions all -import /tmp/tmpzwnnrusb.pyomo.lp -stat=1 -solve -solu /tmp/tmpzwnnrusb.pyomo.soln (default strategy 1)\n",
      "Option for printingOptions changed from normal to all\n",
      " CoinLpIO::readLp(): Maximization problem reformulated as minimization\n",
      "Coin0009I Switching back to maximization to get correct duals etc\n",
      "Presolve is modifying 1 integer bounds and re-presolving\n",
      "Presolve 19 (-16) rows, 11 (-3) columns and 62 (-28) elements\n",
      "Statistics for presolved model\n",
      "Original problem has 13 integers (3 of which binary)\n",
      "Presolved problem has 11 integers (3 of which binary)\n",
      "==== 3 zero objective 3 different\n",
      "5 variables have objective of -1\n",
      "3 variables have objective of -0\n",
      "3 variables have objective of 1\n",
      "==== absolute objective values 2 different\n",
      "3 variables have objective of 0\n",
      "8 variables have objective of 1\n",
      "==== for integers 3 zero objective 3 different\n",
      "5 variables have objective of -1\n",
      "3 variables have objective of -0\n",
      "3 variables have objective of 1\n",
      "==== for integers absolute objective values 2 different\n",
      "3 variables have objective of 0\n",
      "8 variables have objective of 1\n",
      "===== end objective counts\n",
      "\n",
      "\n",
      "Problem has 19 rows, 11 columns (8 with objective) and 62 elements\n",
      "There are 1 singletons with objective \n",
      "Column breakdown:\n",
      "7 of type 0.0->inf, 1 of type 0.0->up, 0 of type lo->inf, \n",
      "0 of type lo->up, 0 of type free, 0 of type fixed, \n",
      "0 of type -inf->0.0, 0 of type -inf->up, 3 of type 0.0->1.0 \n",
      "Row breakdown:\n",
      "0 of type E 0.0, 0 of type E 1.0, 0 of type E -1.0, \n",
      "0 of type E other, 0 of type G 0.0, 0 of type G 1.0, \n",
      "4 of type G other, 3 of type L 0.0, 0 of type L 1.0, \n",
      "12 of type L other, 0 of type Range 0.0->1.0, 0 of type Range other, \n",
      "0 of type Free \n",
      "Continuous objective value is 75100 - 0.00 seconds\n",
      "Cgl0003I 0 fixed, 6 tightened bounds, 5 strengthened rows, 0 substitutions\n",
      "Cgl0003I 0 fixed, 5 tightened bounds, 2 strengthened rows, 0 substitutions\n",
      "Cgl0003I 0 fixed, 2 tightened bounds, 1 strengthened rows, 0 substitutions\n",
      "Cgl0003I 0 fixed, 1 tightened bounds, 0 strengthened rows, 0 substitutions\n",
      "Cgl0003I 0 fixed, 1 tightened bounds, 1 strengthened rows, 0 substitutions\n",
      "Cgl0004I processed model has 19 rows, 10 columns (10 integer (3 of which binary)) and 58 elements\n",
      "Cutoff increment increased from 1e-05 to 0.9999\n",
      "Cbc0012I Integer solution of -100 found by DiveCoefficient after 0 iterations and 0 nodes (0.00 seconds)\n",
      "Cbc0031I 7 added rows had average density of 5.8571429\n",
      "Cbc0013I At root node, 7 cuts changed objective from -285.71429 to -101.51016 in 100 passes\n",
      "Cbc0014I Cut generator 0 (Probing) - 80 row cuts average 2.8 elements, 12 column cuts (12 active)  in 0.003 seconds - new frequency is 1\n",
      "Cbc0014I Cut generator 1 (Gomory) - 395 row cuts average 8.1 elements, 0 column cuts (0 active)  in 0.004 seconds - new frequency is 1\n",
      "Cbc0014I Cut generator 2 (Knapsack) - 0 row cuts average 0.0 elements, 0 column cuts (0 active)  in 0.000 seconds - new frequency is -100\n",
      "Cbc0014I Cut generator 3 (Clique) - 0 row cuts average 0.0 elements, 0 column cuts (0 active)  in 0.000 seconds - new frequency is -100\n",
      "Cbc0014I Cut generator 4 (MixedIntegerRounding2) - 23 row cuts average 6.6 elements, 0 column cuts (0 active)  in 0.002 seconds - new frequency is -100\n",
      "Cbc0014I Cut generator 5 (FlowCover) - 1 row cuts average 3.0 elements, 0 column cuts (0 active)  in 0.002 seconds - new frequency is -100\n",
      "Cbc0014I Cut generator 6 (TwoMirCuts) - 42 row cuts average 5.2 elements, 0 column cuts (0 active)  in 0.001 seconds - new frequency is 1\n",
      "Cbc0010I After 0 nodes, 1 on tree, -100 best solution, best possible -101.51016 (0.03 seconds)\n",
      "Cbc0001I Search completed - best objective -100, took 418 iterations and 2 nodes (0.03 seconds)\n",
      "Cbc0032I Strong branching done 12 times (21 iterations), fathomed 0 nodes and fixed 0 variables\n",
      "Cbc0035I Maximum depth 0, 0 variables fixed on reduced cost\n",
      "Cuts at root node changed objective from -285.714 to -101.51\n",
      "Probing was tried 105 times and created 103 cuts of which 0 were active after adding rounds of cuts (0.003 seconds)\n",
      "Gomory was tried 105 times and created 411 cuts of which 0 were active after adding rounds of cuts (0.004 seconds)\n",
      "Knapsack was tried 100 times and created 0 cuts of which 0 were active after adding rounds of cuts (0.000 seconds)\n",
      "Clique was tried 100 times and created 0 cuts of which 0 were active after adding rounds of cuts (0.000 seconds)\n",
      "MixedIntegerRounding2 was tried 100 times and created 23 cuts of which 0 were active after adding rounds of cuts (0.002 seconds)\n",
      "FlowCover was tried 100 times and created 1 cuts of which 0 were active after adding rounds of cuts (0.002 seconds)\n",
      "TwoMirCuts was tried 105 times and created 69 cuts of which 0 were active after adding rounds of cuts (0.001 seconds)\n",
      "ZeroHalf was tried 1 times and created 0 cuts of which 0 were active after adding rounds of cuts (0.000 seconds)\n",
      "\n",
      "Result - Optimal solution found\n",
      "\n",
      "Objective value:                100.00000000\n",
      "Enumerated nodes:               2\n",
      "Total iterations:               418\n",
      "Time (CPU seconds):             0.03\n",
      "Time (Wallclock seconds):       0.03\n",
      "\n",
      "Total time (CPU seconds):       0.03   (Wallclock seconds):       0.03\n",
      "\n",
      "Solver status: ok\n",
      "Solver termination condition: optimal\n"
     ]
    }
   ],
   "source": [
    "result = opt.solve(model, tee = True)\n",
    "print('Solver status:', result.solver.status)\n",
    "print('Solver termination condition:',result.solver.termination_condition)"
   ]
  },
  {
   "cell_type": "code",
   "execution_count": 47,
   "metadata": {},
   "outputs": [
    {
     "name": "stdout",
     "output_type": "stream",
     "text": [
      "Optimal money 100.0\n"
     ]
    }
   ],
   "source": [
    "print('Optimal money', model.obj())"
   ]
  }
 ],
 "metadata": {
  "kernelspec": {
   "display_name": "Python 3",
   "language": "python",
   "name": "python3"
  },
  "language_info": {
   "codemirror_mode": {
    "name": "ipython",
    "version": 3
   },
   "file_extension": ".py",
   "mimetype": "text/x-python",
   "name": "python",
   "nbconvert_exporter": "python",
   "pygments_lexer": "ipython3",
   "version": "3.11.4"
  }
 },
 "nbformat": 4,
 "nbformat_minor": 2
}
