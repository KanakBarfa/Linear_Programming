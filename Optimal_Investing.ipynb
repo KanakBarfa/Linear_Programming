{
 "cells": [
  {
   "cell_type": "code",
   "execution_count": 19,
   "metadata": {},
   "outputs": [
    {
     "name": "stdout",
     "output_type": "stream",
     "text": [
      "Note: you may need to restart the kernel to use updated packages.\n",
      "E: Could not open lock file /var/lib/dpkg/lock-frontend - open (13: Permission denied)\n",
      "E: Unable to acquire the dpkg frontend lock (/var/lib/dpkg/lock-frontend), are you root?\n"
     ]
    }
   ],
   "source": [
    "%pip install -q pyomo\n",
    "!apt-get install -y -qq coinor-cbc"
   ]
  },
  {
   "cell_type": "code",
   "execution_count": 20,
   "metadata": {},
   "outputs": [],
   "source": [
    "from pyomo.environ import *\n",
    "import math\n",
    "n=5             #Days\n",
    "b=100           #Budget\n",
    "M=50000000  #Big Number. This is the only thing i am not able to make sure what to select. If i select too big, it gives 400, which i dont think is possible\n",
    "model=ConcreteModel()"
   ]
  },
  {
   "cell_type": "code",
   "execution_count": 21,
   "metadata": {},
   "outputs": [],
   "source": [
    "model.xi = Var(range(n),domain= NonNegativeReals)            #Money invested\n",
    "model.ri= Var(range(n),domain= NonNegativeReals)             #Is the returns we get after 2 days\n",
    "model.y=Var(range(n),domain=Binary)                             #This one checks if x[i-1]==2*x[i-2]"
   ]
  },
  {
   "cell_type": "code",
   "execution_count": 22,
   "metadata": {},
   "outputs": [],
   "source": [
    "model.obj = Objective(expr = b-sum(model.xi[i] for i in range(n))+sum(model.ri[i] for i in range(n)), sense = maximize)"
   ]
  },
  {
   "cell_type": "code",
   "execution_count": 23,
   "metadata": {},
   "outputs": [],
   "source": [
    "model.constraints = ConstraintList()\n",
    "model.constraints.add(expr = model.ri[0] == 0)                              #Initially for first 2 days, no returns\n",
    "model.constraints.add(expr = model.ri[1] == 0)\n",
    "for i in range(n):\n",
    "    model.constraints.add(expr = model.xi[i]>=0)                            #Investments must be poisitive\n",
    "    model.constraints.add(expr = model.ri[i]>=0)                            #Returns must be positive\n",
    "    model.constraints.add(expr = b-sum(model.xi[j] for j in range(i+1))+sum(model.ri[j] for j in range(i+1))>=0) #Money always greater than 0 at any day"
   ]
  },
  {
   "cell_type": "code",
   "execution_count": 24,
   "metadata": {},
   "outputs": [],
   "source": [
    "for i in [2,3,4]:\n",
    "  model.constraints.add(expr = model.xi[i-2]-2*model.xi[i-1]<=M*(1-model.y[i]))     #BigM method used\n",
    "  model.constraints.add(expr = model.xi[i-2]-2*model.xi[i-1]>=-M*(1-model.y[i]))    #Makes sure y[i] is 0 if x[i-2]!=2x[i-1]\n",
    "  ###########################################\n",
    "  #But how to make sure y[i] is 1 otherwise?\n",
    "  #If not then it wont be optimal, so no need to make sure of it\n",
    "  ###########################################\n",
    "  model.constraints.add(expr = model.ri[i]<=M*(model.y[i]))                         #Makes sure r[i] is 0 if y[i] is 0,No returns\n",
    "  model.constraints.add(expr = model.ri[i]>=-M*(model.y[i]))\n",
    "  model.constraints.add(expr = model.ri[i]-2*model.xi[i-2]<=M*(1-model.y[i]))         #Makes sure r[i] is 2x[i-2] if y[i] is 1\n",
    "  model.constraints.add(expr = model.ri[i]-2*model.xi[i-2]>=-M*(1-model.y[i]))"
   ]
  },
  {
   "cell_type": "code",
   "execution_count": 25,
   "metadata": {},
   "outputs": [],
   "source": [
    "opt = SolverFactory('cbc')"
   ]
  },
  {
   "cell_type": "code",
   "execution_count": null,
   "metadata": {},
   "outputs": [],
   "source": [
    "result = opt.solve(model, tee = True)\n",
    "print('Solver status:', result.solver.status)\n",
    "print('Solver termination condition:',result.solver.termination_condition)"
   ]
  },
  {
   "cell_type": "code",
   "execution_count": 27,
   "metadata": {},
   "outputs": [
    {
     "name": "stdout",
     "output_type": "stream",
     "text": [
      "Optimal money 208.3333297\n"
     ]
    }
   ],
   "source": [
    "print('Optimal money', model.obj())"
   ]
  }
 ],
 "metadata": {
  "kernelspec": {
   "display_name": "Python 3",
   "language": "python",
   "name": "python3"
  },
  "language_info": {
   "codemirror_mode": {
    "name": "ipython",
    "version": 3
   },
   "file_extension": ".py",
   "mimetype": "text/x-python",
   "name": "python",
   "nbconvert_exporter": "python",
   "pygments_lexer": "ipython3",
   "version": "3.11.4"
  }
 },
 "nbformat": 4,
 "nbformat_minor": 2
}
