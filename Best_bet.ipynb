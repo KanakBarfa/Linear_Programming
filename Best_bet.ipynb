{
 "cells": [
  {
   "cell_type": "code",
   "execution_count": 1,
   "metadata": {},
   "outputs": [
    {
     "name": "stdout",
     "output_type": "stream",
     "text": [
      "Note: you may need to restart the kernel to use updated packages.\n",
      "E: Could not open lock file /var/lib/dpkg/lock-frontend - open (13: Permission denied)\n",
      "E: Unable to acquire the dpkg frontend lock (/var/lib/dpkg/lock-frontend), are you root?\n"
     ]
    }
   ],
   "source": [
    "%pip install -q pyomo\n",
    "!apt-get install -y -qq coinor-cbc"
   ]
  },
  {
   "cell_type": "code",
   "execution_count": 2,
   "metadata": {},
   "outputs": [],
   "source": [
    "from pyomo.environ import *\n",
    "import math\n",
    "n=3                         #Number of sets\n",
    "alpha=1                     #Alpha\n",
    "beta=1                      #Beta\n",
    "b=1000                      #This is the budget\n",
    "model=ConcreteModel()"
   ]
  },
  {
   "cell_type": "code",
   "execution_count": 3,
   "metadata": {},
   "outputs": [],
   "source": [
    "model.xN = Var(range(n+1),domain= NonNegativeReals)            #Money bet in i sets on N for i in (1,2,3) and for match if i=0\n",
    "model.xJ= Var(range(n+1),domain= NonNegativeReals)             #Money bet in i sets on J for i in (1,2,3) and for match if i=0\n",
    "model.t=Var(range(n+1),domain=Binary)                          #t[0] is for match, and t[1,2,3] for sets. This represents the worst case profit"
   ]
  },
  {
   "cell_type": "code",
   "execution_count": 4,
   "metadata": {},
   "outputs": [],
   "source": [
    "model.obj = Objective(expr = b+sum(model.t[i] for i in range(n+1)), sense = maximize)"
   ]
  },
  {
   "cell_type": "code",
   "execution_count": 5,
   "metadata": {},
   "outputs": [],
   "source": [
    "model.constraints = ConstraintList()\n",
    "model.constraints.add(expr=model.t[0]<=model.xN[0]/beta-model.xJ[0])\n",
    "model.constraints.add(expr=model.t[0]<=model.xJ[0]*beta-model.xN[0])\n",
    "for i in range(1,n+1):\n",
    "    model.constraints.add(expr=model.t[i]<=model.xN[i]/alpha-model.xJ[i])\n",
    "    model.constraints.add(expr=model.t[i]<=model.xJ[i]*alpha-model.xN[i])"
   ]
  },
  {
   "cell_type": "code",
   "execution_count": 6,
   "metadata": {},
   "outputs": [
    {
     "data": {
      "text/plain": [
       "<pyomo.core.base.constraint._GeneralConstraintData at 0x7fd0db361de0>"
      ]
     },
     "execution_count": 6,
     "metadata": {},
     "output_type": "execute_result"
    }
   ],
   "source": [
    "model.constraints.add(expr=b>=sum(model.xJ[i] for i in range (n+1))+sum(model.xN[i] for i in range (n+1)))"
   ]
  },
  {
   "cell_type": "code",
   "execution_count": 7,
   "metadata": {},
   "outputs": [],
   "source": [
    "for i in range(n+1):\n",
    "    model.constraints.add(expr=model.xJ[i]>=0)\n",
    "    model.constraints.add(expr=model.xN[i]>=0)"
   ]
  },
  {
   "cell_type": "code",
   "execution_count": 8,
   "metadata": {},
   "outputs": [
    {
     "name": "stdout",
     "output_type": "stream",
     "text": [
      "Welcome to the CBC MILP Solver \n",
      "Version: 2.10.8 \n",
      "Build Date: May  9 2022 \n",
      "\n",
      "command line - /bin/cbc -printingOptions all -import /tmp/tmpy84_y_e8.pyomo.lp -stat=1 -solve -solu /tmp/tmpy84_y_e8.pyomo.soln (default strategy 1)\n",
      "Option for printingOptions changed from normal to all\n",
      " CoinLpIO::readLp(): Maximization problem reformulated as minimization\n",
      "Coin0009I Switching back to maximization to get correct duals etc\n",
      "Presolve 9 (-8) rows, 12 (-1) columns and 32 (-8) elements\n",
      "Statistics for presolved model\n",
      "Original problem has 4 integers (4 of which binary)\n",
      "Presolved problem has 4 integers (4 of which binary)\n",
      "==== 8 zero objective 2 different\n",
      "8 variables have objective of -0\n",
      "4 variables have objective of 1\n",
      "==== absolute objective values 2 different\n",
      "8 variables have objective of 0\n",
      "4 variables have objective of 1\n",
      "==== for integers 0 zero objective 1 different\n",
      "4 variables have objective of 1\n",
      "==== for integers absolute objective values 1 different\n",
      "4 variables have objective of 1\n",
      "===== end objective counts\n",
      "\n",
      "\n",
      "Problem has 9 rows, 12 columns (4 with objective) and 32 elements\n",
      "Column breakdown:\n",
      "8 of type 0.0->inf, 0 of type 0.0->up, 0 of type lo->inf, \n",
      "0 of type lo->up, 0 of type free, 0 of type fixed, \n",
      "0 of type -inf->0.0, 0 of type -inf->up, 4 of type 0.0->1.0 \n",
      "Row breakdown:\n",
      "0 of type E 0.0, 0 of type E 1.0, 0 of type E -1.0, \n",
      "0 of type E other, 0 of type G 0.0, 0 of type G 1.0, \n",
      "0 of type G other, 8 of type L 0.0, 0 of type L 1.0, \n",
      "1 of type L other, 0 of type Range 0.0->1.0, 0 of type Range other, \n",
      "0 of type Free \n",
      "Continuous objective value is 1000 - 0.00 seconds\n",
      "Cgl0004I processed model has 9 rows, 12 columns (4 integer (4 of which binary)) and 32 elements\n",
      "Cutoff increment increased from 1e-05 to 0.9999\n",
      "Cbc0038I Initial state - 0 integers unsatisfied sum - 0\n",
      "Cbc0038I Solution found of -1000\n",
      "Cbc0038I Relaxing continuous gives -1000\n",
      "Cbc0038I Before mini branch and bound, 4 integers at bound fixed and 8 continuous\n",
      "Cbc0038I Mini branch and bound did not improve solution (0.00 seconds)\n",
      "Cbc0038I After 0.00 seconds - Feasibility pump exiting with objective of -1000 - took 0.00 seconds\n",
      "Cbc0012I Integer solution of -1000 found by feasibility pump after 0 iterations and 0 nodes (0.00 seconds)\n",
      "Cbc0001I Search completed - best objective -1000, took 0 iterations and 0 nodes (0.00 seconds)\n",
      "Cbc0035I Maximum depth 0, 0 variables fixed on reduced cost\n",
      "Cuts at root node changed objective from -1000 to -1000\n",
      "Probing was tried 0 times and created 0 cuts of which 0 were active after adding rounds of cuts (0.000 seconds)\n",
      "Gomory was tried 0 times and created 0 cuts of which 0 were active after adding rounds of cuts (0.000 seconds)\n",
      "Knapsack was tried 0 times and created 0 cuts of which 0 were active after adding rounds of cuts (0.000 seconds)\n",
      "Clique was tried 0 times and created 0 cuts of which 0 were active after adding rounds of cuts (0.000 seconds)\n",
      "MixedIntegerRounding2 was tried 0 times and created 0 cuts of which 0 were active after adding rounds of cuts (0.000 seconds)\n",
      "FlowCover was tried 0 times and created 0 cuts of which 0 were active after adding rounds of cuts (0.000 seconds)\n",
      "TwoMirCuts was tried 0 times and created 0 cuts of which 0 were active after adding rounds of cuts (0.000 seconds)\n",
      "ZeroHalf was tried 0 times and created 0 cuts of which 0 were active after adding rounds of cuts (0.000 seconds)\n",
      "\n",
      "Result - Optimal solution found\n",
      "\n",
      "Objective value:                1000.00000000\n",
      "Enumerated nodes:               0\n",
      "Total iterations:               0\n",
      "Time (CPU seconds):             0.00\n",
      "Time (Wallclock seconds):       0.00\n",
      "\n",
      "Total time (CPU seconds):       0.00   (Wallclock seconds):       0.00\n",
      "\n",
      "Solver status: ok\n",
      "Solver termination condition: optimal\n"
     ]
    }
   ],
   "source": [
    "opt = SolverFactory('cbc')\n",
    "result = opt.solve(model, tee = True)\n",
    "print('Solver status:', result.solver.status)\n",
    "print('Solver termination condition:',result.solver.termination_condition)"
   ]
  },
  {
   "cell_type": "code",
   "execution_count": 9,
   "metadata": {},
   "outputs": [
    {
     "name": "stdout",
     "output_type": "stream",
     "text": [
      "Optimal money 1000.0\n"
     ]
    }
   ],
   "source": [
    "print('Optimal money', model.obj())"
   ]
  }
 ],
 "metadata": {
  "kernelspec": {
   "display_name": "Python 3",
   "language": "python",
   "name": "python3"
  },
  "language_info": {
   "codemirror_mode": {
    "name": "ipython",
    "version": 3
   },
   "file_extension": ".py",
   "mimetype": "text/x-python",
   "name": "python",
   "nbconvert_exporter": "python",
   "pygments_lexer": "ipython3",
   "version": "3.11.4"
  }
 },
 "nbformat": 4,
 "nbformat_minor": 2
}
